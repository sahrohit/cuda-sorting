{
 "cells": [
  {
   "cell_type": "code",
   "execution_count": 13,
   "metadata": {},
   "outputs": [],
   "source": [
    "import pandas as pd\n",
    "import matplotlib.pyplot as plt\n",
    "import seaborn as sns"
   ]
  },
  {
   "cell_type": "code",
   "execution_count": 14,
   "metadata": {},
   "outputs": [],
   "source": [
    "# Load data directly using pandas\n",
    "df = pd.read_csv('benchmark_results.csv')"
   ]
  },
  {
   "cell_type": "code",
   "execution_count": 15,
   "metadata": {},
   "outputs": [],
   "source": [
    "# Define the algorithms to plot\n",
    "algo = ['thrust', 'singlethread', 'multithread']\n",
    "\n",
    "# Create color palette\n",
    "colors = sns.color_palette(\"husl\", n_colors=3)"
   ]
  },
  {
   "cell_type": "code",
   "execution_count": 16,
   "metadata": {},
   "outputs": [
    {
     "name": "stdout",
     "output_type": "stream",
     "text": [
      "All performance graphs have been generated.\n"
     ]
    }
   ],
   "source": [
    "# Create plots for each algorithm\n",
    "for alg in algo:\n",
    "    plt.figure(figsize=(8, 5))\n",
    "    sns.set_style(\"whitegrid\")\n",
    "    \n",
    "    # Filter data for the current algorithm\n",
    "    alg_data = df[df['Algorithm'] == alg]\n",
    "    \n",
    "    # Plot linear scale graph\n",
    "    plt.plot(alg_data['Input Size'], alg_data['Runtime'], marker='o', \n",
    "             linestyle='-', label=f'{alg}', color=colors[algo.index(alg)])\n",
    "    \n",
    "    plt.xlabel('Input Size')\n",
    "    plt.ylabel('Runtime (seconds)')\n",
    "    plt.title(f'{alg.capitalize()} Algorithm Performance')\n",
    "    plt.legend()\n",
    "    plt.tight_layout()\n",
    "    plt.savefig(f'images/{alg}/performance_linear.png')\n",
    "    plt.close()\n",
    "    \n",
    "    # Plot logarithmic scale graph\n",
    "    plt.figure(figsize=(8, 5))\n",
    "    sns.set_style(\"whitegrid\")\n",
    "    \n",
    "    plt.plot(alg_data['Input Size'], alg_data['Runtime'], marker='o', \n",
    "             linestyle='-', label=f'{alg}', color=colors[algo.index(alg)])\n",
    "    \n",
    "    plt.xlabel('Input Size')\n",
    "    plt.ylabel('Runtime (seconds)')\n",
    "    plt.title(f'{alg.capitalize()} Algorithm Performance (Log Scale)')\n",
    "    plt.yscale('log')\n",
    "    plt.legend()\n",
    "    plt.tight_layout()\n",
    "    plt.savefig(f'images/{alg}/performance_log.png')\n",
    "    plt.close()\n",
    "\n",
    "# Create a comparative plot\n",
    "plt.figure(figsize=(8, 5))\n",
    "sns.set_style(\"whitegrid\")\n",
    "\n",
    "for alg in algo:\n",
    "    alg_data = df[df['Algorithm'] == alg]\n",
    "    plt.plot(alg_data['Input Size'], alg_data['Runtime'], marker='o', \n",
    "             linestyle='-', label=f'{alg}', color=colors[algo.index(alg)])\n",
    "\n",
    "plt.xlabel('Input Size')\n",
    "plt.ylabel('Runtime (seconds)')\n",
    "plt.title('Comparative Algorithm Performance')\n",
    "plt.legend()\n",
    "plt.tight_layout()\n",
    "plt.savefig('images/comparative_performance_linear.png')\n",
    "plt.close()\n",
    "\n",
    "# Comparative plot with log scale\n",
    "plt.figure(figsize=(8, 5))\n",
    "sns.set_style(\"whitegrid\")\n",
    "\n",
    "for alg in algo:\n",
    "    alg_data = df[df['Algorithm'] == alg]\n",
    "    plt.plot(alg_data['Input Size'], alg_data['Runtime'], marker='o', \n",
    "             linestyle='-', label=f'{alg}', color=colors[algo.index(alg)])\n",
    "\n",
    "plt.xlabel('Input Size')\n",
    "plt.ylabel('Runtime (seconds)')\n",
    "plt.title('Comparative Algorithm Performance (Log Scale)')\n",
    "plt.yscale('log')\n",
    "plt.legend()\n",
    "plt.tight_layout()\n",
    "plt.savefig('images/comparative_performance_log.png')\n",
    "plt.close()\n",
    "\n",
    "print(\"All performance graphs have been generated.\")"
   ]
  }
 ],
 "metadata": {
  "kernelspec": {
   "display_name": "venv",
   "language": "python",
   "name": "python3"
  },
  "language_info": {
   "codemirror_mode": {
    "name": "ipython",
    "version": 3
   },
   "file_extension": ".py",
   "mimetype": "text/x-python",
   "name": "python",
   "nbconvert_exporter": "python",
   "pygments_lexer": "ipython3",
   "version": "3.12.7"
  }
 },
 "nbformat": 4,
 "nbformat_minor": 2
}
